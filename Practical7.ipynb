{
 "cells": [
  {
   "cell_type": "code",
   "execution_count": 118,
   "metadata": {},
   "outputs": [
    {
     "data": {
      "text/plain": [
       "170"
      ]
     },
     "execution_count": 118,
     "metadata": {},
     "output_type": "execute_result"
    }
   ],
   "source": [
    "# Question 1\n",
    "\n",
    "def num_difference(x):\n",
    "    if x >= 15:\n",
    "        dif = x - 15\n",
    "        if x > 15:\n",
    "            return dif * 2\n",
    "    if x < 15:\n",
    "        dif = 15 - x\n",
    "        return dif\n",
    "    \n",
    "num_difference(100)"
   ]
  },
  {
   "cell_type": "code",
   "execution_count": 6,
   "metadata": {},
   "outputs": [
    {
     "data": {
      "text/plain": [
       "4"
      ]
     },
     "execution_count": 6,
     "metadata": {},
     "output_type": "execute_result"
    }
   ],
   "source": [
    "# Question 2\n",
    "\n",
    "def square_value(x):\n",
    "    squared = x ** 2\n",
    "    return squared\n",
    "  \n",
    "square_value(2)"
   ]
  },
  {
   "cell_type": "code",
   "execution_count": 121,
   "metadata": {},
   "outputs": [
    {
     "data": {
      "text/plain": [
       "2"
      ]
     },
     "execution_count": 121,
     "metadata": {},
     "output_type": "execute_result"
    }
   ],
   "source": [
    "# Question 3\n",
    "\n",
    "def sum_numbers(num1, num2):\n",
    "    result = int(num1) + int(num2)\n",
    "    return result\n",
    "\n",
    "sum_numbers(\"1\", \"1\")"
   ]
  },
  {
   "cell_type": "code",
   "execution_count": 122,
   "metadata": {},
   "outputs": [
    {
     "name": "stdout",
     "output_type": "stream",
     "text": [
      "Please enter an integer number: 76\n"
     ]
    },
    {
     "data": {
      "text/plain": [
       "'It is an even number.'"
      ]
     },
     "execution_count": 122,
     "metadata": {},
     "output_type": "execute_result"
    }
   ],
   "source": [
    "# Question 4\n",
    "\n",
    "def even_odd():\n",
    "    number = int(input(\"Please enter an integer number: \"))\n",
    "    if number % 2 == 0:\n",
    "        return(\"It is an even number.\")\n",
    "    else:\n",
    "        return(\"It is an odd number.\")\n",
    "    \n",
    "even_odd()\n"
   ]
  },
  {
   "cell_type": "code",
   "execution_count": 37,
   "metadata": {},
   "outputs": [
    {
     "data": {
      "text/plain": [
       "'all dogs like me'"
      ]
     },
     "execution_count": 37,
     "metadata": {},
     "output_type": "execute_result"
    }
   ],
   "source": [
    "# Question 5\n",
    "\n",
    "def concatenate(list1):\n",
    "    return(' '.join(list1))\n",
    "\n",
    "# if the string is wanted without spaces in between: return(''.join(list1)) would give this output: 'alldogslikeme'\n",
    "# another way of doing this:\n",
    "# result = \"\"\n",
    "# for x in [\"hi\", \"everybody\"]:\n",
    "   # result += x\n",
    "#print(result)      \n",
    "\n",
    "concatenate(['all', 'dogs', 'like', 'me'])\n",
    "    "
   ]
  },
  {
   "cell_type": "code",
   "execution_count": 44,
   "metadata": {},
   "outputs": [
    {
     "data": {
      "text/plain": [
       "[3, 2, 5, 6]"
      ]
     },
     "execution_count": 44,
     "metadata": {},
     "output_type": "execute_result"
    }
   ],
   "source": [
    "# Question 6\n",
    "\n",
    "def numbers_list(num):\n",
    "    new_num = []\n",
    "    for i in num:\n",
    "        if i < 10:\n",
    "            new_num.append(i)\n",
    "    return(new_num)\n",
    "            \n",
    "    \n",
    "    \n",
    "numbers_list([3, 2, 5, 6, 11])"
   ]
  },
  {
   "cell_type": "code",
   "execution_count": 110,
   "metadata": {},
   "outputs": [
    {
     "name": "stdout",
     "output_type": "stream",
     "text": [
      "Please enter an integer: 24\n"
     ]
    },
    {
     "data": {
      "text/plain": [
       "[1, 2, 3, 4, 6, 8, 12, 24]"
      ]
     },
     "execution_count": 110,
     "metadata": {},
     "output_type": "execute_result"
    }
   ],
   "source": [
    "# Question 7\n",
    "\n",
    "def num_divisors():\n",
    "    num = int(input(\"Please enter an integer: \"))\n",
    "    div_list = []\n",
    "    for i in range(1,num+1):\n",
    "        if (num % i) == 0:\n",
    "            div_list.append(i)\n",
    "    return(div_list)\n",
    "        \n",
    "        \n",
    "        \n",
    "num_divisors()"
   ]
  },
  {
   "cell_type": "code",
   "execution_count": 124,
   "metadata": {},
   "outputs": [
    {
     "data": {
      "text/plain": [
       "False"
      ]
     },
     "execution_count": 124,
     "metadata": {},
     "output_type": "execute_result"
    }
   ],
   "source": [
    "# Question 8\n",
    "\n",
    "def prime_num(number):\n",
    "    result = True         # assuming it is a prime number\n",
    "    for x in range(2, number):\n",
    "        if number % x == 0:    # if number divided by each number in range 2 - num equals not 0\n",
    "            result = False     # divisor was found, therefore not a prime number\n",
    "            break\n",
    "    return result\n",
    "        \n",
    "prime_num(6)"
   ]
  },
  {
   "cell_type": "code",
   "execution_count": 53,
   "metadata": {},
   "outputs": [
    {
     "name": "stdout",
     "output_type": "stream",
     "text": [
      "                                              Hello, my name is Sally.\n"
     ]
    }
   ],
   "source": [
    "# Question 9\n",
    "    \n",
    "def right_justify(s):\n",
    "    print(s.rjust(70))\n",
    "    \n",
    "\n",
    "right_justify(\"Hello, my name is Sally.\")"
   ]
  },
  {
   "cell_type": "code",
   "execution_count": 126,
   "metadata": {},
   "outputs": [
    {
     "name": "stdout",
     "output_type": "stream",
     "text": [
      "Yes.\n"
     ]
    }
   ],
   "source": [
    "# Question 10\n",
    "\n",
    "def is_triangle(a, b, c):\n",
    "    if (a + b < c) or (a + c < b) or (c + b < a):\n",
    "        print(\"No.\")\n",
    "    else:\n",
    "        print(\"Yes.\")\n",
    "        \n",
    "is_triangle(2, 2, 4)"
   ]
  },
  {
   "cell_type": "code",
   "execution_count": 74,
   "metadata": {},
   "outputs": [
    {
     "name": "stdout",
     "output_type": "stream",
     "text": [
      "Enter length of first stick: 1\n",
      "Enter length of second stick: 1\n",
      "Enter length of third stick: 12\n",
      "No.\n"
     ]
    }
   ],
   "source": [
    "# Question 11\n",
    "\n",
    "def sticks():\n",
    "    stick1 = int(input(\"Enter length of first stick: \"))\n",
    "    stick2 = int(input(\"Enter length of second stick: \"))\n",
    "    stick3 = int(input(\"Enter length of third stick: \"))\n",
    "    is_triangle(stick1, stick2, stick3)\n",
    "    \n",
    "    \n",
    "    \n",
    "sticks()"
   ]
  },
  {
   "cell_type": "code",
   "execution_count": 127,
   "metadata": {},
   "outputs": [
    {
     "name": "stdout",
     "output_type": "stream",
     "text": [
      "11\n"
     ]
    }
   ],
   "source": [
    "# Question 12\n",
    "\n",
    "def sum_int(a, b, c):\n",
    "    if a == b or a == c or b == c:\n",
    "        print(0)\n",
    "    else:\n",
    "        print(a + b + c)\n",
    "        \n",
    "sum_int(1, 6, 4)"
   ]
  },
  {
   "cell_type": "code",
   "execution_count": 94,
   "metadata": {},
   "outputs": [
    {
     "name": "stdout",
     "output_type": "stream",
     "text": [
      "Please enter 5 values divided by commas: 1, 2, 3, 4, 5\n",
      "5\n"
     ]
    }
   ],
   "source": [
    "# Question 13\n",
    "\n",
    "def largest_num():\n",
    "# each element is is an integer and each element x in the input is split by comma\n",
    "    userlist = [int(x) for x in input(\"Please enter 5 values divided by commas: \").split(',')]\n",
    "    if len(userlist) == 5:\n",
    "        print(max(userlist))\n",
    "    else:\n",
    "        print(\"No valid input.\")\n",
    "        \n",
    "        \n",
    "largest_num()\n"
   ]
  },
  {
   "cell_type": "code",
   "execution_count": 129,
   "metadata": {},
   "outputs": [
    {
     "name": "stdout",
     "output_type": "stream",
     "text": [
      "True\n"
     ]
    }
   ],
   "source": [
    "# Question 14\n",
    "\n",
    "def vowel_finder(char):\n",
    "    vowels = [\"a\", \"e\", \"i\", \"o\", \"u\"]\n",
    "    if vowels.__contains__(char):\n",
    "        print(True)\n",
    "    else:\n",
    "        print(False)\n",
    "        \n",
    "vowel_finder(\"i\")"
   ]
  },
  {
   "cell_type": "code",
   "execution_count": 101,
   "metadata": {},
   "outputs": [
    {
     "name": "stdout",
     "output_type": "stream",
     "text": [
      "***\n",
      "****\n",
      "*******\n"
     ]
    }
   ],
   "source": [
    "# Question 15\n",
    "\n",
    "def histogram(list_int):\n",
    "    for i in list_int:\n",
    "        print(i * \"*\")\n",
    "        \n",
    "histogram([3, 4, 7])\n",
    "    "
   ]
  },
  {
   "cell_type": "code",
   "execution_count": null,
   "metadata": {},
   "outputs": [],
   "source": []
  }
 ],
 "metadata": {
  "kernelspec": {
   "display_name": "Python 3",
   "language": "python",
   "name": "python3"
  },
  "language_info": {
   "codemirror_mode": {
    "name": "ipython",
    "version": 3
   },
   "file_extension": ".py",
   "mimetype": "text/x-python",
   "name": "python",
   "nbconvert_exporter": "python",
   "pygments_lexer": "ipython3",
   "version": "3.6.4"
  }
 },
 "nbformat": 4,
 "nbformat_minor": 2
}
