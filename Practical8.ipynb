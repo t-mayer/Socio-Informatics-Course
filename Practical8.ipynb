{
 "cells": [
  {
   "cell_type": "code",
   "execution_count": 1,
   "metadata": {},
   "outputs": [
    {
     "data": {
      "text/plain": [
       "False"
      ]
     },
     "execution_count": 1,
     "metadata": {},
     "output_type": "execute_result"
    }
   ],
   "source": [
    "# Question 1\n",
    "\n",
    "def is_sorted(list1):\n",
    "    if list1 == sorted(list1):\n",
    "        return True\n",
    "    else:\n",
    "        return False\n",
    "    \n",
    "    \n",
    "is_sorted([\"g\", \"b\", \"b\"])\n",
    "        "
   ]
  },
  {
   "cell_type": "code",
   "execution_count": 2,
   "metadata": {},
   "outputs": [
    {
     "name": "stdout",
     "output_type": "stream",
     "text": [
      "None\n"
     ]
    }
   ],
   "source": [
    "# Question 2\n",
    "\n",
    "def chop(chop_list):\n",
    "    del chop_list[0], chop_list[-1]\n",
    "    \n",
    "    \n",
    "    \n",
    "print(chop([1, 2, 3, 4]))\n",
    "    "
   ]
  },
  {
   "cell_type": "code",
   "execution_count": 3,
   "metadata": {},
   "outputs": [
    {
     "data": {
      "text/plain": [
       "[2, 3]"
      ]
     },
     "execution_count": 3,
     "metadata": {},
     "output_type": "execute_result"
    }
   ],
   "source": [
    "# Question 3\n",
    "\n",
    "def middle(list1):\n",
    "    new_list = list1.copy()\n",
    "    del new_list[0], new_list[-1]\n",
    "    return new_list\n",
    "\n",
    "\n",
    "middle([1, 2, 3, 4])"
   ]
  },
  {
   "cell_type": "code",
   "execution_count": 4,
   "metadata": {},
   "outputs": [
    {
     "name": "stdout",
     "output_type": "stream",
     "text": [
      "[2002, 2009, 2016, 2023, 2037, 2044, 2051, 2058, 2072, 2079, 2086, 2093, 2107, 2114, 2121, 2128, 2142, 2149, 2156, 2163, 2177, 2184, 2191, 2198, 2212, 2219, 2226, 2233, 2247, 2254, 2261, 2268, 2282, 2289, 2296, 2303, 2317, 2324, 2331, 2338, 2352, 2359, 2366, 2373, 2387, 2394, 2401, 2408, 2422, 2429, 2436, 2443, 2457, 2464, 2471, 2478, 2492, 2499, 2506, 2513, 2527, 2534, 2541, 2548, 2562, 2569, 2576, 2583, 2597, 2604, 2611, 2618, 2632, 2639, 2646, 2653, 2667, 2674, 2681, 2688, 2702, 2709, 2716, 2723, 2737, 2744, 2751, 2758, 2772, 2779, 2786, 2793, 2807, 2814, 2821, 2828, 2842, 2849, 2856, 2863, 2877, 2884, 2891, 2898, 2912, 2919, 2926, 2933, 2947, 2954, 2961, 2968, 2982, 2989, 2996, 3003, 3017, 3024, 3031, 3038, 3052, 3059, 3066, 3073, 3087, 3094, 3101, 3108, 3122, 3129, 3136, 3143, 3157, 3164, 3171, 3178, 3192, 3199]\n"
     ]
    }
   ],
   "source": [
    "# Question 4\n",
    "\n",
    "def divisible():\n",
    "    comma_seq = [number for number in range(2000, 3201)if number % 7 == 0 and number % 5 != 0]\n",
    "    print(comma_seq)\n",
    "    \n",
    "    \n",
    "    \n",
    "divisible()   "
   ]
  },
  {
   "cell_type": "code",
   "execution_count": 5,
   "metadata": {},
   "outputs": [
    {
     "name": "stdout",
     "output_type": "stream",
     "text": [
      "Zero Division Error: Can´t divide numbers by zero.\n"
     ]
    }
   ],
   "source": [
    "# Question 5\n",
    "\n",
    "def division():\n",
    "    try:\n",
    "        result = 5/0\n",
    "        print(result)\n",
    "    except:\n",
    "        print(\"Zero Division Error: Can´t divide numbers by zero.\")\n",
    "\n",
    "\n",
    "    \n",
    "division()"
   ]
  },
  {
   "cell_type": "code",
   "execution_count": 6,
   "metadata": {},
   "outputs": [
    {
     "name": "stdout",
     "output_type": "stream",
     "text": [
      "Please enter the base of a triangle in mm: 12mm\n",
      "Please enter the height of a triangle in mm: 11mm\n",
      "The area of your triangle is 66.0 mm²\n"
     ]
    }
   ],
   "source": [
    "# Question 6\n",
    "\n",
    "def triangle():\n",
    "    base = input(\"Please enter the base of a triangle in mm: \")\n",
    "    height = input(\"Please enter the height of a triangle in mm: \")\n",
    "    if \"m\" in base or \"m\" in height:\n",
    "        base = base[:-2]\n",
    "        height = height[:-2]\n",
    "        area = (int(base)*int(height))/2\n",
    "        print(\"The area of your triangle is\", area, \"mm²\")\n",
    "    else:\n",
    "        area = (int(base)*int(height))/2\n",
    "        print(\"The area of your triangle is\", area, \"mm²\")\n",
    "  \n",
    "\n",
    "\n",
    "triangle()"
   ]
  },
  {
   "cell_type": "code",
   "execution_count": 1,
   "metadata": {},
   "outputs": [
    {
     "ename": "ModuleNotFoundError",
     "evalue": "No module named 'zoo'",
     "output_type": "error",
     "traceback": [
      "\u001b[1;31m---------------------------------------------------------------------------\u001b[0m",
      "\u001b[1;31mModuleNotFoundError\u001b[0m                       Traceback (most recent call last)",
      "\u001b[1;32m<ipython-input-1-c52543c914eb>\u001b[0m in \u001b[0;36m<module>\u001b[1;34m()\u001b[0m\n\u001b[0;32m      1\u001b[0m \u001b[1;31m# Question 7\u001b[0m\u001b[1;33m\u001b[0m\u001b[1;33m\u001b[0m\u001b[0m\n\u001b[0;32m      2\u001b[0m \u001b[1;33m\u001b[0m\u001b[0m\n\u001b[1;32m----> 3\u001b[1;33m \u001b[1;32mimport\u001b[0m \u001b[0mzoo\u001b[0m\u001b[1;33m\u001b[0m\u001b[0m\n\u001b[0m\u001b[0;32m      4\u001b[0m \u001b[1;33m\u001b[0m\u001b[0m\n\u001b[0;32m      5\u001b[0m \u001b[0mzoo\u001b[0m\u001b[1;33m.\u001b[0m\u001b[0mhours\u001b[0m\u001b[1;33m(\u001b[0m\u001b[1;33m)\u001b[0m\u001b[1;33m\u001b[0m\u001b[0m\n",
      "\u001b[1;31mModuleNotFoundError\u001b[0m: No module named 'zoo'"
     ]
    }
   ],
   "source": [
    "# Question 7\n",
    "\n",
    "import zoo\n",
    "\n",
    "zoo.hours()"
   ]
  },
  {
   "cell_type": "code",
   "execution_count": 12,
   "metadata": {},
   "outputs": [
    {
     "name": "stdout",
     "output_type": "stream",
     "text": [
      "open 9-5 daily\n"
     ]
    }
   ],
   "source": [
    "# Question 8\n",
    "\n",
    "import zoo as menagerie\n",
    "\n",
    "menagerie.hours()"
   ]
  },
  {
   "cell_type": "code",
   "execution_count": 16,
   "metadata": {},
   "outputs": [
    {
     "name": "stdout",
     "output_type": "stream",
     "text": [
      "open 9-5 daily\n"
     ]
    }
   ],
   "source": [
    "# Question 9\n",
    "\n",
    "from zoo import hours as info\n",
    "\n",
    "info()\n"
   ]
  },
  {
   "cell_type": "code",
   "execution_count": 179,
   "metadata": {},
   "outputs": [
    {
     "data": {
      "text/plain": [
       "True"
      ]
     },
     "execution_count": 179,
     "metadata": {},
     "output_type": "execute_result"
    }
   ],
   "source": [
    "# Question 10\n",
    "\n",
    "def has_duplicates(list1):\n",
    "    result = False\n",
    "    for i in list1:\n",
    "        if list1.count(i) > 1:\n",
    "            result = True\n",
    "            break\n",
    "    return result      \n",
    "       \n",
    "      \n",
    "    \n",
    "    \n",
    "has_duplicates([1, 2, 4, 1, \"a\"])\n"
   ]
  },
  {
   "cell_type": "code",
   "execution_count": 19,
   "metadata": {},
   "outputs": [
    {
     "name": "stdout",
     "output_type": "stream",
     "text": [
      "15\n",
      "0.015\n"
     ]
    },
    {
     "data": {
      "text/plain": [
       "['19921122',\n",
       " '1988810',\n",
       " '19761320',\n",
       " '1990127',\n",
       " '1980323',\n",
       " '1986628',\n",
       " '1995311',\n",
       " '198025',\n",
       " '198056',\n",
       " '19771213',\n",
       " '19971214',\n",
       " '2001313',\n",
       " '19751021',\n",
       " '1996416',\n",
       " '1988529',\n",
       " '19951028',\n",
       " '1983621',\n",
       " '1979522',\n",
       " '1991102',\n",
       " '1992716',\n",
       " '198571',\n",
       " '19831010',\n",
       " '1977223']"
      ]
     },
     "execution_count": 19,
     "metadata": {},
     "output_type": "execute_result"
    }
   ],
   "source": [
    "# Question 11\n",
    "# The question doesn´t really state how often this loop has to run and how many classes we need \n",
    "\n",
    "def has_duplicates(list1):\n",
    "    result = False\n",
    "    for i in list1:\n",
    "        if list1.count(i) > 1:\n",
    "            result = True\n",
    "            break\n",
    "    return result\n",
    "\n",
    "\n",
    "import random\n",
    "\n",
    "import random\n",
    "def generate_birthdays():\n",
    "    birthday_list = []\n",
    "    \n",
    "    for i in range(1, 24):  # 23 students\n",
    "        year = random.randint(1970, 2001)\n",
    "        month = random.randint(1, 13)\n",
    "        # some months do not have 31 days, but for the sake of this exercise, this will be ignored\n",
    "        day = random.randint(1, 31)\n",
    "\n",
    "        birthday = str(year) + str(month) + str(day)  # making a string out of the three numbers\n",
    "        birthday_list.append(birthday)  # appending it to the list created at the top\n",
    "    return birthday_list\n",
    "\n",
    "\n",
    "count_bday = 0\n",
    "maximum = 1000\n",
    "\n",
    "for i in range(1, maximum):\n",
    "    result = generate_birthdays()\n",
    "    if has_duplicates(result) == True:\n",
    "        count_bday = count_bday + 1\n",
    "\n",
    "probability = count_bday / maximum\n",
    "print(count_bday)\n",
    "print(probability)\n",
    "            \n",
    "        \n",
    "    \n",
    "generate_birthdays()\n",
    "\n",
    "    "
   ]
  },
  {
   "cell_type": "code",
   "execution_count": null,
   "metadata": {},
   "outputs": [],
   "source": []
  }
 ],
 "metadata": {
  "kernelspec": {
   "display_name": "Python 3",
   "language": "python",
   "name": "python3"
  },
  "language_info": {
   "codemirror_mode": {
    "name": "ipython",
    "version": 3
   },
   "file_extension": ".py",
   "mimetype": "text/x-python",
   "name": "python",
   "nbconvert_exporter": "python",
   "pygments_lexer": "ipython3",
   "version": "3.6.4"
  }
 },
 "nbformat": 4,
 "nbformat_minor": 2
}
