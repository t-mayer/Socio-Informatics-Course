{
 "cells": [
  {
   "cell_type": "code",
   "execution_count": 10,
   "metadata": {},
   "outputs": [
    {
     "name": "stdout",
     "output_type": "stream",
     "text": [
      "1994\n"
     ]
    }
   ],
   "source": [
    "# Question 1 + 2\n",
    "years_list = [1992, 1993, 1993, 1994, 1995, 1996]\n",
    "\n",
    "# print the the fourth item of the list\n",
    "third_bday = years_list[3]\n",
    "\n",
    "print(third_bday)"
   ]
  },
  {
   "cell_type": "code",
   "execution_count": 11,
   "metadata": {},
   "outputs": [
    {
     "name": "stdout",
     "output_type": "stream",
     "text": [
      "1996\n"
     ]
    }
   ],
   "source": [
    "# Question 3\n",
    "years_list = [1992, 1993, 1993, 1994, 1995, 1996]\n",
    "\n",
    "# taking the maximum number of the list\n",
    "oldest_year = max (years_list)\n",
    "\n",
    "print(oldest_year)"
   ]
  },
  {
   "cell_type": "code",
   "execution_count": 24,
   "metadata": {},
   "outputs": [
    {
     "name": "stdout",
     "output_type": "stream",
     "text": [
      "['mozzarella', 'Cinderella', 'salmonella']\n"
     ]
    }
   ],
   "source": [
    "# Question 4 + 5 (demi told me to provide both answers)\n",
    "# Answering the question this way, the list and thus its person-element will indeed be changed.\n",
    "things = [\"mozzarella\", \"cinderella\", \"salmonella\"]\n",
    "things[1] = things[1].capitalize()\n",
    "print(things)"
   ]
  },
  {
   "cell_type": "code",
   "execution_count": 19,
   "metadata": {},
   "outputs": [
    {
     "name": "stdout",
     "output_type": "stream",
     "text": [
      "Cinderella\n",
      "['mozzarella', 'cinderella', 'salmonella']\n"
     ]
    }
   ],
   "source": [
    "# Question 4 + 5(demi told me to provide both answers)\n",
    "# Answering the question this way, the list and its person-element will not be changed. The list stays the same it\n",
    "# was before.\n",
    "things = [\"mozzarella\", \"cinderella\", \"salmonella\"]\n",
    "capitalized = things[1].capitalize()\n",
    "print(capitalized)\n",
    "print(things)\n"
   ]
  },
  {
   "cell_type": "code",
   "execution_count": 14,
   "metadata": {},
   "outputs": [
    {
     "name": "stdout",
     "output_type": "stream",
     "text": [
      "['MOZZARELLA', 'cinderella', 'salmonella']\n"
     ]
    }
   ],
   "source": [
    "# Question 6\n",
    "things = [\"mozzarella\", \"cinderella\", \"salmonella\"]\n",
    "\n",
    "# The first item of the list will be changed to uppercase\n",
    "things[0] = things[0].upper()\n",
    "\n",
    "print(things)"
   ]
  },
  {
   "cell_type": "code",
   "execution_count": 15,
   "metadata": {},
   "outputs": [
    {
     "name": "stdout",
     "output_type": "stream",
     "text": [
      "['mozzarella', 'cinderella']\n"
     ]
    }
   ],
   "source": [
    "# Question 7\n",
    "things = [\"mozzarella\", \"cinderella\", \"salmonella\"]\n",
    "del things[2]\n",
    "print(things)"
   ]
  },
  {
   "cell_type": "code",
   "execution_count": 18,
   "metadata": {},
   "outputs": [
    {
     "name": "stdout",
     "output_type": "stream",
     "text": [
      "['harpo', 'Chico', 'Groucho']\n"
     ]
    }
   ],
   "source": [
    "# Question 8 + 9\n",
    "# Question 9 was not clear but demi said to reverse the whole list and not the word\n",
    "surprise = [\"Groucho\", \"Chico\", \"Harpo\"]\n",
    "\n",
    "# make the last item lower case\n",
    "surprise[-1] = surprise[-1].lower() \n",
    "\n",
    "# reversing the whole list\n",
    "surprise.reverse()\n",
    "\n",
    "print(surprise) "
   ]
  },
  {
   "cell_type": "code",
   "execution_count": 1,
   "metadata": {
    "scrolled": true
   },
   "outputs": [
    {
     "name": "stdout",
     "output_type": "stream",
     "text": [
      "Please enter the first student surname: Mayer\n",
      "Please enter the first mark of student 1: 2\n",
      "Please enter the second mark of student 1: 3\n",
      "Please enter the second student surname: Jaeger\n",
      "Please enter the first mark of student 2: 6\n",
      "Please enter the second mark of student 2: 5\n",
      "Please enter the third student surname: Mueller\n",
      "Please enter the first mark of student 3: 2\n",
      "Please enter the second mark of student 3: 4\n",
      "[['Mayer', '2', '3'], ['Jaeger', '6', '5'], ['Mueller', '2', '4']]\n"
     ]
    }
   ],
   "source": [
    "# Question 10\n",
    "# It would make sense to work with loops but since we did not study that yet, I did it this way.\n",
    "\n",
    "# Creating a list called markbook.\n",
    "markbook = []\n",
    "\n",
    "# User input consisting of a surname and two marks.\n",
    "student1_name  = input (\"Please enter the first student surname: \")\n",
    "student1_mark1 = input (\"Please enter the first mark of student 1: \")\n",
    "student1_mark2 = input (\"Please enter the second mark of student 1: \")\n",
    "\n",
    "student2_name  = input (\"Please enter the second student surname: \")\n",
    "student2_mark1 = input (\"Please enter the first mark of student 2: \")\n",
    "student2_mark2 = input (\"Please enter the second mark of student 2: \")\n",
    "\n",
    "student3_name  = input (\"Please enter the third student surname: \")\n",
    "student3_mark1 = input (\"Please enter the first mark of student 3: \")\n",
    "student3_mark2 = input (\"Please enter the second mark of student 3: \")\n",
    "\n",
    "# Adding the input in form of lists to a bigger list.\n",
    "markbook.append([student1_name, student1_mark1, student1_mark2])\n",
    "markbook.append([student2_name, student2_mark1, student2_mark2])\n",
    "markbook.append([student3_name, student3_mark1, student3_mark2])\n",
    "print(markbook)"
   ]
  },
  {
   "cell_type": "code",
   "execution_count": 26,
   "metadata": {},
   "outputs": [
    {
     "name": "stdout",
     "output_type": "stream",
     "text": [
      "['2', '4']\n"
     ]
    },
    {
     "data": {
      "text/plain": [
       "[['Mayer', '2', '3'], ['Jaeger', '6', '5']]"
      ]
     },
     "execution_count": 26,
     "metadata": {},
     "output_type": "execute_result"
    }
   ],
   "source": [
    "# Question 11\n",
    "\n",
    "markbook = [['Mayer', '2', '3'], ['Jaeger', '6', '5'], ['Mueller', '2', '4']]\n",
    "print(markbook.pop()[1:3])\n",
    "markbook"
   ]
  },
  {
   "cell_type": "code",
   "execution_count": 20,
   "metadata": {},
   "outputs": [
    {
     "name": "stdout",
     "output_type": "stream",
     "text": [
      "Please enter your first number:1\n",
      "Please enter your second number:2\n",
      "Please enter your third number:3\n",
      "Please enter your fourth number:4\n",
      "Please enter your fifth number:5\n",
      "Please enter your sixth number:6\n",
      "['1', '2', '3', '4', '5', '6']\n",
      "['6', '5', '4', '3', '2', '1']\n"
     ]
    }
   ],
   "source": [
    "# Question 12\n",
    "# It would make sense to work with loops but since we did not study that yet, I did it this way.\n",
    "six_numbers = []\n",
    "user_number1 = input(\"Please enter your first number:\")\n",
    "user_number2 = input(\"Please enter your second number:\")\n",
    "user_number3 = input(\"Please enter your third number:\")\n",
    "user_number4 = input(\"Please enter your fourth number:\")\n",
    "user_number5 = input(\"Please enter your fifth number:\")\n",
    "user_number6 = input(\"Please enter your sixth number:\")\n",
    "\n",
    "six_numbers.append(user_number1)\n",
    "six_numbers.append(user_number2)\n",
    "six_numbers.append(user_number3)\n",
    "six_numbers.append(user_number4)\n",
    "six_numbers.append(user_number5)\n",
    "six_numbers.append(user_number6)\n",
    "\n",
    "\n",
    "print(six_numbers)\n",
    "six_numbers.sort(reverse=True)\n",
    "print(six_numbers)\n",
    "\n"
   ]
  }
 ],
 "metadata": {
  "kernelspec": {
   "display_name": "Python 3",
   "language": "python",
   "name": "python3"
  },
  "language_info": {
   "codemirror_mode": {
    "name": "ipython",
    "version": 3
   },
   "file_extension": ".py",
   "mimetype": "text/x-python",
   "name": "python",
   "nbconvert_exporter": "python",
   "pygments_lexer": "ipython3",
   "version": "3.6.4"
  }
 },
 "nbformat": 4,
 "nbformat_minor": 2
}
