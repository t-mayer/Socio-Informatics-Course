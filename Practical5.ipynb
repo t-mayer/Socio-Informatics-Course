{
 "cells": [
  {
   "cell_type": "code",
   "execution_count": 7,
   "metadata": {},
   "outputs": [
    {
     "name": "stdout",
     "output_type": "stream",
     "text": [
      "False\n"
     ]
    }
   ],
   "source": [
    "# Question 1\n",
    "\n",
    "number_list = [78, 89, 56]\n",
    "x = 81\n",
    "\n",
    "if x > number_list[0] and x > number_list[1] and x > number_list[2]:\n",
    "    print(True)\n",
    "else: \n",
    "    print(False)"
   ]
  },
  {
   "cell_type": "code",
   "execution_count": 21,
   "metadata": {},
   "outputs": [
    {
     "name": "stdout",
     "output_type": "stream",
     "text": [
      "The room is crowded!\n"
     ]
    }
   ],
   "source": [
    "# Question 2\n",
    "\n",
    "people_list = ['John', 'Mike', 'Bernd', 'Sebastian', 'Chris']\n",
    "\n",
    "if len(people_list) > 3:\n",
    "    print(\"The room is crowded!\")\n",
    "elif len(people_list) == 3:\n",
    "        print(\"The room is just right!\")\n",
    "else: \n",
    "    print(\"The room is a bit too empty!\")\n",
    "    \n"
   ]
  },
  {
   "cell_type": "code",
   "execution_count": 29,
   "metadata": {},
   "outputs": [
    {
     "name": "stdout",
     "output_type": "stream",
     "text": [
      "Number is greater than 75!\n"
     ]
    }
   ],
   "source": [
    "# Question 3\n",
    "\n",
    "y = 77\n",
    "\n",
    "if y >= 0 and y <= 30:\n",
    "    print(\"Number between 0 and 30!\")\n",
    "elif y >= 31 and y <= 50:\n",
    "    print(\"Number is between 31 and 50!\")\n",
    "elif y >= 51 and y <= 75: \n",
    "    print(\"Number is between 51 and 75!\")\n",
    "elif y > 75:\n",
    "    print(\"Number is greater than 75!\")\n",
    "else:\n",
    "    print(\"Number not in range!\")"
   ]
  },
  {
   "cell_type": "code",
   "execution_count": 45,
   "metadata": {},
   "outputs": [
    {
     "name": "stdout",
     "output_type": "stream",
     "text": [
      "The number is even AND divisible by 5!\n"
     ]
    }
   ],
   "source": [
    "# Question 4\n",
    "# the number is even as in odd or even OR is the number == 5?\n",
    "# number in one statement with OR ??? or seprate stements?\n",
    "\n",
    "number = 420\n",
    "\n",
    "if number % 2 == 0 and number % 5 == 0:\n",
    "    print(\"The number is even AND divisible by 5!\")\n",
    "elif number % 2 == 0:\n",
    "    print(\"The number is even!\")\n",
    "elif number % 5 == 0:\n",
    "    print(\"Number is divisible by five\")\n",
    "\n",
    "else:\n",
    "    print(False)"
   ]
  },
  {
   "cell_type": "code",
   "execution_count": 53,
   "metadata": {},
   "outputs": [
    {
     "name": "stdout",
     "output_type": "stream",
     "text": [
      "Please enter a number: 35\n",
      "Your number is odd!\n"
     ]
    }
   ],
   "source": [
    "# Question 5\n",
    "\n",
    "user_input = int(input(\"Please enter a number: \"))\n",
    "\n",
    "if user_input % 2 == 0:\n",
    "    print(\"Your number is even!\")\n",
    "else:\n",
    "    print(\"Your number is odd!\")"
   ]
  },
  {
   "cell_type": "code",
   "execution_count": 57,
   "metadata": {},
   "outputs": [
    {
     "name": "stdout",
     "output_type": "stream",
     "text": [
      "Please enter your name: Alexandrosss\n",
      "I have a long name!\n"
     ]
    }
   ],
   "source": [
    "# Question 6\n",
    "\n",
    "user = str(input(\"Please enter your name: \"))\n",
    "\n",
    "if len(user) > 10:\n",
    "    print(\"I have a long name!\")\n",
    "else: \n",
    "    print(\"My name is short!\")"
   ]
  },
  {
   "cell_type": "code",
   "execution_count": 64,
   "metadata": {},
   "outputs": [
    {
     "name": "stdout",
     "output_type": "stream",
     "text": [
      "3.1904761904761907 dog´s years\n"
     ]
    }
   ],
   "source": [
    "# Question 7???????????????????????????\n",
    "\n",
    "dog_age = 14\n",
    "\n",
    "if dog_age <= 2:\n",
    "    print(dog_age / 10.5, \"dog´s years\")\n",
    "elif dog_age > 2:\n",
    "    print ((2 / 10.5) + (dog_age - 2) / 4, \"dog´s years\" )"
   ]
  },
  {
   "cell_type": "code",
   "execution_count": 38,
   "metadata": {},
   "outputs": [
    {
     "name": "stdout",
     "output_type": "stream",
     "text": [
      "Input the temperature and the type you would like to convert: 40C\n",
      "The temperature in Fahrenheit is 104 degrees.\n"
     ]
    }
   ],
   "source": [
    "# Question 8\n",
    "# Since the input asks for a numbers and letters but the mathematical conversion works with numbers, I deleted\n",
    "# the last element (which is the letter). After that I converted the input to an integer in order to work with it.\n",
    "\n",
    "u_input = input(\"Input the temperature and the type you would like to convert: \")\n",
    "\n",
    "if \"f\" in u_input.lower():\n",
    "    i_input = int(u_input[:-1])\n",
    "    result = (i_input - 32) * (5/9)\n",
    "    print(\"The temperature in Celcius is\", int(result), \"degrees.\")\n",
    "elif \"c\" in u_input.lower():\n",
    "    i_input = int(u_input[:-1])\n",
    "    result = (i_input * 9/5) + 32\n",
    "    print(\"The temperature in Fahrenheit is\", int(result), \"degrees.\")\n",
    "else:\n",
    "    print(\"No valid input.\")"
   ]
  },
  {
   "cell_type": "code",
   "execution_count": null,
   "metadata": {},
   "outputs": [],
   "source": []
  }
 ],
 "metadata": {
  "kernelspec": {
   "display_name": "Python 3",
   "language": "python",
   "name": "python3"
  },
  "language_info": {
   "codemirror_mode": {
    "name": "ipython",
    "version": 3
   },
   "file_extension": ".py",
   "mimetype": "text/x-python",
   "name": "python",
   "nbconvert_exporter": "python",
   "pygments_lexer": "ipython3",
   "version": "3.6.4"
  }
 },
 "nbformat": 4,
 "nbformat_minor": 2
}
