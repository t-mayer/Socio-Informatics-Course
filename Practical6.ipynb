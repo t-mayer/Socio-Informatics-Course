{
 "cells": [
  {
   "cell_type": "code",
   "execution_count": 6,
   "metadata": {},
   "outputs": [
    {
     "name": "stdout",
     "output_type": "stream",
     "text": [
      "Too low!\n",
      "Too low!\n",
      "Too low!\n",
      "Too low!\n",
      "Too low!\n",
      "Found it!\n"
     ]
    }
   ],
   "source": [
    "# Question 1\n",
    "\n",
    "# creating the two variables\n",
    "guess_me = 7  \n",
    "\n",
    "variable_start = 1\n",
    "\n",
    "while guess_me < 10:      # loop is executed as long as guess_me is lower than 10\n",
    "    variable_start +=1    # with every new iteration of the loop the variable is always incremented by 1 until it reaches 7\n",
    "    if variable_start < guess_me:  \n",
    "        print(\"Too low!\")\n",
    "    elif variable_start == guess_me:\n",
    "        print(\"Found it!\")\n",
    "        break\n",
    "    elif variable_start > guess_me:\n",
    "        print(\"Oops!\")\n",
    "        break\n",
    "        \n",
    "    "
   ]
  },
  {
   "cell_type": "code",
   "execution_count": null,
   "metadata": {},
   "outputs": [],
   "source": []
  }
 ],
 "metadata": {
  "kernelspec": {
   "display_name": "Python 3",
   "language": "python",
   "name": "python3"
  },
  "language_info": {
   "codemirror_mode": {
    "name": "ipython",
    "version": 3
   },
   "file_extension": ".py",
   "mimetype": "text/x-python",
   "name": "python",
   "nbconvert_exporter": "python",
   "pygments_lexer": "ipython3",
   "version": "3.6.4"
  }
 },
 "nbformat": 4,
 "nbformat_minor": 2
}
