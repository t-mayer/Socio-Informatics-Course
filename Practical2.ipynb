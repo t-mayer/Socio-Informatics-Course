{
 "cells": [
  {
   "cell_type": "code",
   "execution_count": 1,
   "metadata": {},
   "outputs": [
    {
     "name": "stdout",
     "output_type": "stream",
     "text": [
      "Hello world\n"
     ]
    }
   ],
   "source": [
    "# Question 1\n",
    "sentence = \"Hello world\"\n",
    "print(sentence)"
   ]
  },
  {
   "cell_type": "code",
   "execution_count": 10,
   "metadata": {},
   "outputs": [
    {
     "name": "stdout",
     "output_type": "stream",
     "text": [
      "3600\n"
     ]
    }
   ],
   "source": [
    "# Question 2 + Question 3\n",
    "seconds_in_minute = 60\n",
    "minutes_in_hour = 60\n",
    "seconds_per_hour = seconds_in_minute * minutes_in_hour\n",
    "print(seconds_per_hour)\n"
   ]
  },
  {
   "cell_type": "code",
   "execution_count": 11,
   "metadata": {},
   "outputs": [
    {
     "name": "stdout",
     "output_type": "stream",
     "text": [
      "86400\n"
     ]
    }
   ],
   "source": [
    "# Question 4 + Question 5\n",
    "seconds_in_minute = 60\n",
    "minutes_in_hour = 60\n",
    "seconds_per_hour = seconds_in_minute * minutes_in_hour\n",
    "seconds_per_day = seconds_per_hour * 24\n",
    "print(seconds_per_day)"
   ]
  },
  {
   "cell_type": "code",
   "execution_count": 12,
   "metadata": {},
   "outputs": [
    {
     "name": "stdout",
     "output_type": "stream",
     "text": [
      "24.0\n"
     ]
    }
   ],
   "source": [
    "# Question 6\n",
    "seconds_in_minute = 60\n",
    "minutes_in_hour = 60\n",
    "seconds_per_hour = seconds_in_minute * minutes_in_hour\n",
    "seconds_per_day = seconds_per_hour * 24\n",
    "result_division = seconds_per_day/seconds_per_hour\n",
    "print(result_division)"
   ]
  },
  {
   "cell_type": "code",
   "execution_count": 15,
   "metadata": {},
   "outputs": [
    {
     "name": "stdout",
     "output_type": "stream",
     "text": [
      "24\n"
     ]
    }
   ],
   "source": [
    "# Question 7\n",
    "seconds_in_minute = 60\n",
    "minutes_in_hour = 60\n",
    "seconds_per_hour = seconds_in_minute * minutes_in_hour\n",
    "seconds_per_day = seconds_per_hour * 24\n",
    "result_division = seconds_per_day//seconds_per_hour\n",
    "print(result_division)\n",
    "# Yes, it does agree with the number from the previous question. The reason for this is that floating point division \n",
    "# shows you the rest of odd and even numbers being divided. Since both, seconds_per_day and seconds_per_hour are\n",
    "# even numbers, the floating point \"rest\" is 0. The floating point division and integer division have the same result."
   ]
  },
  {
   "cell_type": "code",
   "execution_count": 3,
   "metadata": {},
   "outputs": [
    {
     "name": "stdout",
     "output_type": "stream",
     "text": [
      "86.0\n"
     ]
    }
   ],
   "source": [
    "# Question 8\n",
    "temp = 30\n",
    "ftemp = temp * 9/5 + 32 \n",
    "print(ftemp)\n",
    "# In the practical I was told I am allowed to use this formula since the one is a little bit confusing. This is the website\n",
    "# that I got it from: www.rapidtables.com/convert/temperature/how-fahrenheit-to-celsius.html"
   ]
  },
  {
   "cell_type": "code",
   "execution_count": 23,
   "metadata": {},
   "outputs": [
    {
     "name": "stdout",
     "output_type": "stream",
     "text": [
      "y\n"
     ]
    }
   ],
   "source": [
    "# Question 9\n",
    "phrase = 'sally sells seashells by the seashore '\n",
    "letter5 = phrase[4]\n",
    "print(letter5)"
   ]
  },
  {
   "cell_type": "code",
   "execution_count": 24,
   "metadata": {},
   "outputs": [
    {
     "name": "stdout",
     "output_type": "stream",
     "text": [
      "o\n"
     ]
    }
   ],
   "source": [
    "# Question 10\n",
    "phrase = 'sally sells seashells by the seashore '\n",
    "letter_3 = phrase[-4]\n",
    "print(letter_3)"
   ]
  },
  {
   "cell_type": "code",
   "execution_count": 8,
   "metadata": {},
   "outputs": [
    {
     "name": "stdout",
     "output_type": "stream",
     "text": [
      "38\n"
     ]
    }
   ],
   "source": [
    "# Question 11\n",
    "phrase = 'sally sells seashells by the seashore '\n",
    "print(len(phrase))\n"
   ]
  },
  {
   "cell_type": "code",
   "execution_count": 27,
   "metadata": {},
   "outputs": [
    {
     "name": "stdout",
     "output_type": "stream",
     "text": [
      "seashells\n"
     ]
    }
   ],
   "source": [
    "# Question 12\n",
    "phrase = 'sally sells seashells by the seashore '\n",
    "extract_word = phrase.split()[2]\n",
    "print(extract_word)\n"
   ]
  },
  {
   "cell_type": "code",
   "execution_count": 19,
   "metadata": {},
   "outputs": [
    {
     "name": "stdout",
     "output_type": "stream",
     "text": [
      "sells seashells by the seashore \n"
     ]
    }
   ],
   "source": [
    "# Question 13\n",
    "phrase = 'sally sells seashells by the seashore '\n",
    "extract_words = phrase[6:38]\n",
    "print(extract_words)"
   ]
  },
  {
   "cell_type": "code",
   "execution_count": 29,
   "metadata": {},
   "outputs": [
    {
     "name": "stdout",
     "output_type": "stream",
     "text": [
      "['sally', 'sells', 'seashells', 'by', 'the', 'seashore']\n"
     ]
    }
   ],
   "source": [
    "# Question 14\n",
    "phrase = 'sally sells seashells by the seashore '\n",
    "phrase_list = phrase.split()\n",
    "print(phrase_list)"
   ]
  },
  {
   "cell_type": "code",
   "execution_count": 33,
   "metadata": {},
   "outputs": [
    {
     "name": "stdout",
     "output_type": "stream",
     "text": [
      "I\n",
      " like \tAvocados\n"
     ]
    }
   ],
   "source": [
    "# Question 15\n",
    "x = ('I\\n like \\tAvocados')\n",
    "print(x)\n"
   ]
  },
  {
   "cell_type": "code",
   "execution_count": 34,
   "metadata": {},
   "outputs": [
    {
     "name": "stdout",
     "output_type": "stream",
     "text": [
      "\n",
      "I\n",
      " like \tAvocados\n",
      "I\n",
      " like \tAvocados\n",
      "I\n",
      " like \tAvocados\n",
      "I\n",
      " like \tAvocados\n",
      "I\n",
      " like \tAvocados\n"
     ]
    }
   ],
   "source": [
    "# Question 16\n",
    "x = ('\\nI\\n like \\tAvocados')*5\n",
    "print(x)"
   ]
  },
  {
   "cell_type": "code",
   "execution_count": 38,
   "metadata": {
    "scrolled": true
   },
   "outputs": [
    {
     "name": "stdout",
     "output_type": "stream",
     "text": [
      "\n",
      "I\n",
      " like \tAvocados sally sells seashells by the seashore \n"
     ]
    }
   ],
   "source": [
    "# Question 17\n",
    "x = ('\\nI\\n like \\tAvocados')\n",
    "phrase = 'sally sells seashells by the seashore '\n",
    "conca = x + ' ' + phrase\n",
    "print(conca)"
   ]
  }
 ],
 "metadata": {
  "kernelspec": {
   "display_name": "Python 3",
   "language": "python",
   "name": "python3"
  },
  "language_info": {
   "codemirror_mode": {
    "name": "ipython",
    "version": 3
   },
   "file_extension": ".py",
   "mimetype": "text/x-python",
   "name": "python",
   "nbconvert_exporter": "python",
   "pygments_lexer": "ipython3",
   "version": "3.6.4"
  }
 },
 "nbformat": 4,
 "nbformat_minor": 2
}
