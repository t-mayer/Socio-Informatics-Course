{
 "cells": [
  {
   "cell_type": "code",
   "execution_count": 7,
   "metadata": {},
   "outputs": [
    {
     "name": "stdout",
     "output_type": "stream",
     "text": [
      "Red , Black\n"
     ]
    }
   ],
   "source": [
    "# Question 1\n",
    "\n",
    "# creating a list\n",
    "color_list = [\"Red\",\"Green\",\"White\" ,\"Black\"]\n",
    "\n",
    "# displaying first and last element of the list\n",
    "print(color_list[0], \",\" , color_list[3])\n"
   ]
  },
  {
   "cell_type": "code",
   "execution_count": 11,
   "metadata": {},
   "outputs": [
    {
     "name": "stdout",
     "output_type": "stream",
     "text": [
      "['Nectarines', 'Apples', 'Oranges', 'Peaches']\n"
     ]
    }
   ],
   "source": [
    "# Question 2\n",
    "\n",
    "# creating a list\n",
    "fruit_list = [\"Apples\", \"Oranges\", \"Peaches\", \"Nectarines\"]\n",
    "\n",
    "# removing last element of this list, assigning it to a new variable called fruit\n",
    "fruit = fruit_list.pop() \n",
    "\n",
    "# combining it with the original list, variable fruit in first position\n",
    "fruit_list.insert(0, fruit)\n",
    "\n",
    "print(fruit_list)\n",
    "\n"
   ]
  },
  {
   "cell_type": "code",
   "execution_count": 26,
   "metadata": {},
   "outputs": [
    {
     "name": "stdout",
     "output_type": "stream",
     "text": [
      "True\n",
      "False\n",
      "False\n"
     ]
    }
   ],
   "source": [
    "# Question 3\n",
    "\n",
    "# three lists\n",
    "languages = [\"java\", \"haskell\", \"Go\", \"Python\"]\n",
    "animals = [\"pigeon\", \"python\", \"shark\"]\n",
    "names = [\"Johan\", \"Frank\", \"Sarah\"]\n",
    "\n",
    "# searching for python in these lists\n",
    "result1 = \"Python\" in languages\n",
    "print(result1)\n",
    "\n",
    "result2 = \"Python\" in animals\n",
    "print(result2)\n",
    "\n",
    "result3 = \"Python\" in names\n",
    "print(result3)"
   ]
  },
  {
   "cell_type": "code",
   "execution_count": 27,
   "metadata": {},
   "outputs": [
    {
     "data": {
      "text/plain": [
       "5"
      ]
     },
     "execution_count": 27,
     "metadata": {},
     "output_type": "execute_result"
    }
   ],
   "source": [
    "# Question 4\n",
    "names = ['Groucho', 'Chico', 'Mario', 'Harpo', 'Gummo', 'Zeppo', 'Harry', 'Mario', 'Mariah',\n",
    "'Jeffrey', 'Mario', 'Solomon', 'Mario', 'Mario']\n",
    "\n",
    "names.count(\"Mario\")"
   ]
  },
  {
   "cell_type": "code",
   "execution_count": 28,
   "metadata": {},
   "outputs": [
    {
     "name": "stdout",
     "output_type": "stream",
     "text": [
      "[23, 32, 34, 38, 38, 43, 43, 56, 65, 65, 78, 78, 87, 87, 98]\n"
     ]
    }
   ],
   "source": [
    "# Question 5\n",
    "\n",
    "scores = [87, 34, 65, 32, 78, 43, 98, 23, 65, 87, 43, 56, 38, 38, 78]\n",
    "scores_copy = sorted (scores)\n",
    "print(scores_copy)"
   ]
  },
  {
   "cell_type": "code",
   "execution_count": 29,
   "metadata": {},
   "outputs": [
    {
     "name": "stdout",
     "output_type": "stream",
     "text": [
      "[98, 87, 87, 78, 78, 65, 65, 56, 43, 43, 38, 38, 34, 32, 23]\n"
     ]
    }
   ],
   "source": [
    "# Question 6\n",
    "\n",
    "scores = [87, 34, 65, 32, 78, 43, 98, 23, 65, 87, 43, 56, 38, 38, 78]\n",
    "scores.sort(reverse=True)\n",
    "print(scores)"
   ]
  },
  {
   "cell_type": "code",
   "execution_count": 43,
   "metadata": {},
   "outputs": [
    {
     "name": "stdout",
     "output_type": "stream",
     "text": [
      "['bread', 'salad', 'cheese']\n",
      "['lamp', 'car', 'mustache', 'bread', 'salad', 'cheese', 'paint', 'chair']\n"
     ]
    }
   ],
   "source": [
    "# Question 7\n",
    "\n",
    "values = [\"lamp\", \"car\", \"mustache\", \"bread\", \"salad\", \"cheese\", \"paint\", \"chair\"]\n",
    "\n",
    "# extracting the food items by index\n",
    "food_items = values[3:6]\n",
    "\n",
    "print(food_items)\n",
    "\n",
    "#showing that the original list is unchanged\n",
    "print(values)"
   ]
  },
  {
   "cell_type": "code",
   "execution_count": 37,
   "metadata": {},
   "outputs": [
    {
     "name": "stdout",
     "output_type": "stream",
     "text": [
      "['bread', 'salad', 'cheese', 'olives', 'salmon']\n"
     ]
    }
   ],
   "source": [
    "# Question 8\n",
    "\n",
    "# food items list from Question 7\n",
    "food_items = ['bread', 'salad', 'cheese']\n",
    "\n",
    "\n",
    "# making another list with 2 new items\n",
    "addition = [\"olives\", \"salmon\"]\n",
    "\n",
    "# creating a new variable and combining the two lists\n",
    "new_food_items = food_items + addition\n",
    "\n",
    "print(new_food_items)\n",
    "\n",
    "\n"
   ]
  },
  {
   "cell_type": "code",
   "execution_count": 76,
   "metadata": {},
   "outputs": [
    {
     "name": "stdout",
     "output_type": "stream",
     "text": [
      "[5, 25]\n"
     ]
    }
   ],
   "source": [
    "# Question 9\n",
    "\n",
    "# a list\n",
    "a = [5, 10, 15, 20, 25]\n",
    "\n",
    "# extract the first and last element of the list\n",
    "first_element = a.pop(0)\n",
    "last_element = a.pop(-1)\n",
    "\n",
    "# creating a new, empty list\n",
    "new_a = []\n",
    "\n",
    "# inserting the first and last element into the new list\n",
    "new_a.extend([first_element])\n",
    "new_a.extend([last_element])\n",
    "\n",
    "print(new_a)\n",
    "\n"
   ]
  },
  {
   "cell_type": "code",
   "execution_count": 2,
   "metadata": {},
   "outputs": [
    {
     "name": "stdout",
     "output_type": "stream",
     "text": [
      "{'dog': 'chien', 'cat': 'chat', 'walrus': 'morse'}\n"
     ]
    }
   ],
   "source": [
    "# Question 10\n",
    "\n",
    "e2f = {\"dog\" : \"chien\", \"cat\" : \"chat\", \"walrus\" : \"morse\"}\n",
    "print(e2f)"
   ]
  },
  {
   "cell_type": "code",
   "execution_count": 3,
   "metadata": {},
   "outputs": [
    {
     "name": "stdout",
     "output_type": "stream",
     "text": [
      "morse\n"
     ]
    }
   ],
   "source": [
    "# Question 11\n",
    "\n",
    "print(e2f[\"walrus\"])"
   ]
  },
  {
   "cell_type": "code",
   "execution_count": 5,
   "metadata": {},
   "outputs": [
    {
     "name": "stdout",
     "output_type": "stream",
     "text": [
      "{'chien': 'dog', 'chat': 'cat', 'morse': 'walrus'}\n"
     ]
    }
   ],
   "source": [
    "# Question 12\n",
    "\n",
    "# reversing key value pairs in order to make it a French-to-English dictionary\n",
    "f2e = {v: k for k, v in e2f.items()}\n",
    "print(f2e)"
   ]
  },
  {
   "cell_type": "code",
   "execution_count": 6,
   "metadata": {},
   "outputs": [
    {
     "name": "stdout",
     "output_type": "stream",
     "text": [
      "dog\n"
     ]
    }
   ],
   "source": [
    "# Question 13\n",
    "\n",
    "print(f2e[\"chien\"])\n"
   ]
  },
  {
   "cell_type": "code",
   "execution_count": 27,
   "metadata": {},
   "outputs": [
    {
     "name": "stdout",
     "output_type": "stream",
     "text": [
      "dict_keys(['animals', 'plants', 'others'])\n",
      "dict_keys(['cats', 'octopi', 'emus'])\n",
      "['Henri', 'Grumpy', 'Lucy']\n"
     ]
    }
   ],
   "source": [
    "# Question 14, 15, and 16\n",
    "\n",
    "# creating a list called life\n",
    "life = {\"animals\": {'cats': ['Henri', 'Grumpy', 'Lucy'], 'octopi': {},  'emus': {}}, \n",
    "         \"plants\": {}, \n",
    "         \"others\": {}}\n",
    "\n",
    "# printing the top-most keys\n",
    "print(life.keys())\n",
    "\n",
    "# printing the keys of \"animals\"\n",
    "print(life[\"animals\"].keys())\n",
    "\n",
    "# printing the values of \"cats\"\n",
    "print(life[\"animals\"][\"cats\"])"
   ]
  },
  {
   "cell_type": "code",
   "execution_count": null,
   "metadata": {},
   "outputs": [],
   "source": []
  }
 ],
 "metadata": {
  "kernelspec": {
   "display_name": "Python 3",
   "language": "python",
   "name": "python3"
  },
  "language_info": {
   "codemirror_mode": {
    "name": "ipython",
    "version": 3
   },
   "file_extension": ".py",
   "mimetype": "text/x-python",
   "name": "python",
   "nbconvert_exporter": "python",
   "pygments_lexer": "ipython3",
   "version": "3.6.4"
  }
 },
 "nbformat": 4,
 "nbformat_minor": 2
}
